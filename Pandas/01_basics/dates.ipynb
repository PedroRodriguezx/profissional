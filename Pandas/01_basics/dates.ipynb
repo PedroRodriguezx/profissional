{
 "cells": [
  {
   "cell_type": "code",
   "execution_count": 2,
   "id": "56d4aaab-a3e5-405a-9b41-5f21e0c9c1c6",
   "metadata": {},
   "outputs": [],
   "source": [
    "import datetime"
   ]
  },
  {
   "cell_type": "code",
   "execution_count": 4,
   "id": "c8671add-d038-4a7d-a20b-bd417dd9c44d",
   "metadata": {},
   "outputs": [],
   "source": [
    "# date \n",
    "\n",
    "data = datetime.date(2023,12,25)\n"
   ]
  },
  {
   "cell_type": "code",
   "execution_count": 5,
   "id": "06a29255-d63c-48fd-88e0-1aebdddc1b76",
   "metadata": {},
   "outputs": [
    {
     "data": {
      "text/plain": [
       "datetime.date(2023, 12, 25)"
      ]
     },
     "execution_count": 5,
     "metadata": {},
     "output_type": "execute_result"
    }
   ],
   "source": [
    "data"
   ]
  },
  {
   "cell_type": "code",
   "execution_count": 6,
   "id": "e952777c-8908-40d6-976a-3f1579f6559b",
   "metadata": {},
   "outputs": [],
   "source": [
    "datahora = datetime.datetime(2023,12,25,17,00,34)"
   ]
  },
  {
   "cell_type": "code",
   "execution_count": 7,
   "id": "43f250c3-1a09-432e-9353-d012eebf45f9",
   "metadata": {},
   "outputs": [
    {
     "data": {
      "text/plain": [
       "datetime.datetime(2023, 12, 25, 17, 0, 34)"
      ]
     },
     "execution_count": 7,
     "metadata": {},
     "output_type": "execute_result"
    }
   ],
   "source": [
    "datahora"
   ]
  },
  {
   "cell_type": "code",
   "execution_count": 8,
   "id": "bc978e28-4228-45a4-9fd9-530ea41e0611",
   "metadata": {},
   "outputs": [],
   "source": [
    "# today \n",
    "\n",
    "dataatual = datetime.date.today()"
   ]
  },
  {
   "cell_type": "code",
   "execution_count": 9,
   "id": "7699cdba-94ba-4ddb-8940-e9b62e4a4754",
   "metadata": {},
   "outputs": [
    {
     "data": {
      "text/plain": [
       "datetime.date(2023, 12, 12)"
      ]
     },
     "execution_count": 9,
     "metadata": {},
     "output_type": "execute_result"
    }
   ],
   "source": [
    "dataatual"
   ]
  },
  {
   "cell_type": "code",
   "execution_count": 13,
   "id": "793ae553-c5e3-40ad-98fb-dc3b889a4c04",
   "metadata": {},
   "outputs": [],
   "source": [
    "# agora / datetime\n",
    "agora = datetime.datetime.now()"
   ]
  },
  {
   "cell_type": "code",
   "execution_count": 14,
   "id": "8c06ab1f-180a-40df-9180-8fa2b089e2e8",
   "metadata": {},
   "outputs": [
    {
     "data": {
      "text/plain": [
       "datetime.datetime(2023, 12, 12, 20, 3, 34, 750778)"
      ]
     },
     "execution_count": 14,
     "metadata": {},
     "output_type": "execute_result"
    }
   ],
   "source": [
    "agora"
   ]
  },
  {
   "cell_type": "code",
   "execution_count": 17,
   "id": "144301fa-68c5-4aa9-9194-494e6035e60e",
   "metadata": {},
   "outputs": [],
   "source": [
    "frase = f\"agora são {dataatual}\""
   ]
  },
  {
   "cell_type": "code",
   "execution_count": 18,
   "id": "68ed5cc4-a224-42da-80dd-4db9ed8858ae",
   "metadata": {},
   "outputs": [
    {
     "data": {
      "text/plain": [
       "'agora são 2023-12-12'"
      ]
     },
     "execution_count": 18,
     "metadata": {},
     "output_type": "execute_result"
    }
   ],
   "source": [
    "frase"
   ]
  },
  {
   "cell_type": "code",
   "execution_count": 21,
   "id": "55e0f34a-18f7-4dc7-ac7d-bccccb365044",
   "metadata": {},
   "outputs": [],
   "source": [
    "# formatar uma data como string \n",
    "\n",
    "agora_formatado = agora.strftime('%d/%m/%y')"
   ]
  },
  {
   "cell_type": "code",
   "execution_count": 22,
   "id": "8ae709ea-f132-49e0-a6c9-9f6dd8473311",
   "metadata": {},
   "outputs": [
    {
     "data": {
      "text/plain": [
       "'12/12/23'"
      ]
     },
     "execution_count": 22,
     "metadata": {},
     "output_type": "execute_result"
    }
   ],
   "source": [
    "agora_formatado\n"
   ]
  },
  {
   "cell_type": "code",
   "execution_count": 26,
   "id": "e0668256-7893-4c82-b381-2bfb5eb266ac",
   "metadata": {},
   "outputs": [],
   "source": [
    "# strptime \n",
    "\n",
    "from datetime import datetime as dt\n",
    "agora_formatado_date = dt.strptime(agora_formatado, \"%d/%m/%y\")"
   ]
  },
  {
   "cell_type": "code",
   "execution_count": 27,
   "id": "a52cf778-f455-4a2a-b592-4847754b6071",
   "metadata": {},
   "outputs": [
    {
     "data": {
      "text/plain": [
       "datetime.datetime(2023, 12, 12, 0, 0)"
      ]
     },
     "execution_count": 27,
     "metadata": {},
     "output_type": "execute_result"
    }
   ],
   "source": [
    "agora_formatado_date"
   ]
  },
  {
   "cell_type": "code",
   "execution_count": 28,
   "id": "b5bac41d-2f25-4ee8-b090-8d1e0aee95cb",
   "metadata": {},
   "outputs": [
    {
     "data": {
      "text/plain": [
       "datetime.datetime(2023, 12, 12, 20, 3, 34, 750778)"
      ]
     },
     "execution_count": 28,
     "metadata": {},
     "output_type": "execute_result"
    }
   ],
   "source": [
    "agora"
   ]
  },
  {
   "cell_type": "code",
   "execution_count": 29,
   "id": "28d85398-0f68-4e2f-9173-19feda33e55a",
   "metadata": {},
   "outputs": [],
   "source": [
    "agora_mais_sete = agora + datetime.timedelta(days=7)"
   ]
  },
  {
   "cell_type": "code",
   "execution_count": 30,
   "id": "b346ca9d-8a32-4d56-bc28-f0eadaac601c",
   "metadata": {},
   "outputs": [
    {
     "data": {
      "text/plain": [
       "datetime.datetime(2023, 12, 19, 20, 3, 34, 750778)"
      ]
     },
     "execution_count": 30,
     "metadata": {},
     "output_type": "execute_result"
    }
   ],
   "source": [
    "agora_mais_sete"
   ]
  },
  {
   "cell_type": "code",
   "execution_count": 31,
   "id": "734cb05c-aa53-459f-84ee-428dd8013006",
   "metadata": {},
   "outputs": [],
   "source": [
    "agora_mais_uma_hora = agora + datetime.timedelta(hours=1)"
   ]
  },
  {
   "cell_type": "code",
   "execution_count": 32,
   "id": "73f71d3e-c962-44ae-b64d-7bf78530da20",
   "metadata": {},
   "outputs": [
    {
     "data": {
      "text/plain": [
       "datetime.datetime(2023, 12, 12, 21, 3, 34, 750778)"
      ]
     },
     "execution_count": 32,
     "metadata": {},
     "output_type": "execute_result"
    }
   ],
   "source": [
    "agora_mais_uma_hora"
   ]
  },
  {
   "cell_type": "code",
   "execution_count": 33,
   "id": "4babd43c-0977-4fa6-a554-d16593f8b705",
   "metadata": {},
   "outputs": [],
   "source": [
    "agora = datetime.datetime.now()"
   ]
  },
  {
   "cell_type": "code",
   "execution_count": 34,
   "id": "9e22109d-3f04-4b91-9a13-a46d3e8088b2",
   "metadata": {},
   "outputs": [
    {
     "data": {
      "text/plain": [
       "datetime.datetime(2023, 12, 12, 20, 41, 52, 981024)"
      ]
     },
     "execution_count": 34,
     "metadata": {},
     "output_type": "execute_result"
    }
   ],
   "source": [
    "agora"
   ]
  },
  {
   "cell_type": "code",
   "execution_count": null,
   "id": "a188c924-a0d3-425e-addb-f68fcdaa9f5f",
   "metadata": {},
   "outputs": [],
   "source": []
  }
 ],
 "metadata": {
  "kernelspec": {
   "display_name": "Python 3 (ipykernel)",
   "language": "python",
   "name": "python3"
  },
  "language_info": {
   "codemirror_mode": {
    "name": "ipython",
    "version": 3
   },
   "file_extension": ".py",
   "mimetype": "text/x-python",
   "name": "python",
   "nbconvert_exporter": "python",
   "pygments_lexer": "ipython3",
   "version": "3.11.6"
  }
 },
 "nbformat": 4,
 "nbformat_minor": 5
}
