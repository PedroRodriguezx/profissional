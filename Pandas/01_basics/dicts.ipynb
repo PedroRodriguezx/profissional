{
 "cells": [
  {
   "cell_type": "code",
   "execution_count": 1,
   "id": "6b6a54c8-5249-4acb-81fe-21f1ea8ffa84",
   "metadata": {},
   "outputs": [],
   "source": [
    "# dict comprehension "
   ]
  },
  {
   "cell_type": "code",
   "execution_count": 2,
   "id": "09bfbb87-2cac-4b1a-88c3-7631a843472c",
   "metadata": {},
   "outputs": [],
   "source": [
    "piloto = {\n",
    "\n",
    "    'classe' : 'formula 1',\n",
    "    'nome' : 'lewis',\n",
    "    'nacionalidade' : 'britanico',\n",
    "    'equipe' : 'mercedes'\n",
    "    \n",
    "}\n"
   ]
  },
  {
   "cell_type": "code",
   "execution_count": 3,
   "id": "161d66e8-dff9-4f81-bea4-1238583471ca",
   "metadata": {},
   "outputs": [],
   "source": [
    "piloto_valor_upper = {}"
   ]
  },
  {
   "cell_type": "code",
   "execution_count": 4,
   "id": "215ccd0c-ffbd-498d-8a53-99dd6a51f70a",
   "metadata": {},
   "outputs": [],
   "source": [
    "for chave, valor in piloto.items():\n",
    "    piloto_valor_upper[chave] = valor.upper()"
   ]
  },
  {
   "cell_type": "code",
   "execution_count": 5,
   "id": "53a931de-82c3-43b2-9f4b-4cd939e8fe45",
   "metadata": {},
   "outputs": [
    {
     "data": {
      "text/plain": [
       "{'classe': 'FORMULA 1',\n",
       " 'nome': 'LEWIS',\n",
       " 'nacionalidade': 'BRITANICO',\n",
       " 'equipe': 'MERCEDES'}"
      ]
     },
     "execution_count": 5,
     "metadata": {},
     "output_type": "execute_result"
    }
   ],
   "source": [
    "piloto_valor_upper"
   ]
  },
  {
   "cell_type": "code",
   "execution_count": 6,
   "id": "e95f7e90-d4c6-4fd0-ac59-a9ce7b4dbd7b",
   "metadata": {},
   "outputs": [],
   "source": [
    "piloto_valor_upper_comprehension = {chave: valor.upper() for chave, valor in piloto.items() }"
   ]
  },
  {
   "cell_type": "code",
   "execution_count": 7,
   "id": "f50ba61e-2244-4cc3-9d21-babd453eedd4",
   "metadata": {},
   "outputs": [
    {
     "data": {
      "text/plain": [
       "{'classe': 'FORMULA 1',\n",
       " 'nome': 'LEWIS',\n",
       " 'nacionalidade': 'BRITANICO',\n",
       " 'equipe': 'MERCEDES'}"
      ]
     },
     "execution_count": 7,
     "metadata": {},
     "output_type": "execute_result"
    }
   ],
   "source": [
    "piloto_valor_upper_comprehension"
   ]
  },
  {
   "cell_type": "code",
   "execution_count": null,
   "id": "0f77aa0c-c114-4fbb-924b-1a1084552cc7",
   "metadata": {},
   "outputs": [],
   "source": []
  }
 ],
 "metadata": {
  "kernelspec": {
   "display_name": "Python 3 (ipykernel)",
   "language": "python",
   "name": "python3"
  },
  "language_info": {
   "codemirror_mode": {
    "name": "ipython",
    "version": 3
   },
   "file_extension": ".py",
   "mimetype": "text/x-python",
   "name": "python",
   "nbconvert_exporter": "python",
   "pygments_lexer": "ipython3",
   "version": "3.11.6"
  }
 },
 "nbformat": 4,
 "nbformat_minor": 5
}
