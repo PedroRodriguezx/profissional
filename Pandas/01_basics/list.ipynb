{
 "cells": [
  {
   "cell_type": "code",
   "execution_count": 1,
   "id": "1638ade6-e535-4a4e-88bd-75dcef161955",
   "metadata": {},
   "outputs": [],
   "source": [
    "# list comprehension\n",
    "numeros = [1,2,3,4,5,6]"
   ]
  },
  {
   "cell_type": "code",
   "execution_count": 2,
   "id": "95919111-2775-4588-bf44-ac0b7785819f",
   "metadata": {},
   "outputs": [
    {
     "data": {
      "text/plain": [
       "[1, 2, 3, 4, 5, 6]"
      ]
     },
     "execution_count": 2,
     "metadata": {},
     "output_type": "execute_result"
    }
   ],
   "source": [
    "numeros"
   ]
  },
  {
   "cell_type": "code",
   "execution_count": 5,
   "id": "173aada3-44c8-434e-9765-34435a95337e",
   "metadata": {},
   "outputs": [],
   "source": [
    "numeros_ao_quadrado = []"
   ]
  },
  {
   "cell_type": "code",
   "execution_count": 6,
   "id": "b24ee4ac-ac0f-4625-b467-852ba1062a33",
   "metadata": {},
   "outputs": [],
   "source": [
    "for numero in numeros:\n",
    "    numeros_ao_quadrado.append(numero ** 2)"
   ]
  },
  {
   "cell_type": "code",
   "execution_count": 7,
   "id": "15ba6acd-c215-45b2-a71a-49103bc57f94",
   "metadata": {},
   "outputs": [
    {
     "data": {
      "text/plain": [
       "[1, 4, 9, 16, 25, 36]"
      ]
     },
     "execution_count": 7,
     "metadata": {},
     "output_type": "execute_result"
    }
   ],
   "source": [
    "numeros_ao_quadrado"
   ]
  },
  {
   "cell_type": "code",
   "execution_count": 9,
   "id": "e4d871c4-3d5e-4e51-bfbb-4d545193eadd",
   "metadata": {},
   "outputs": [],
   "source": [
    "numeros_ao_quadrado_comprehension = [numero ** 2 for numero in numeros]"
   ]
  },
  {
   "cell_type": "code",
   "execution_count": 10,
   "id": "6077a3c4-b815-46d1-8905-4e67b66cc7ba",
   "metadata": {},
   "outputs": [
    {
     "data": {
      "text/plain": [
       "[1, 4, 9, 16, 25, 36]"
      ]
     },
     "execution_count": 10,
     "metadata": {},
     "output_type": "execute_result"
    }
   ],
   "source": [
    "numeros_ao_quadrado_comprehension"
   ]
  },
  {
   "cell_type": "code",
   "execution_count": null,
   "id": "e0f2b3b7-aac9-4e38-8677-8aea03d6b417",
   "metadata": {},
   "outputs": [],
   "source": []
  }
 ],
 "metadata": {
  "kernelspec": {
   "display_name": "Python 3 (ipykernel)",
   "language": "python",
   "name": "python3"
  },
  "language_info": {
   "codemirror_mode": {
    "name": "ipython",
    "version": 3
   },
   "file_extension": ".py",
   "mimetype": "text/x-python",
   "name": "python",
   "nbconvert_exporter": "python",
   "pygments_lexer": "ipython3",
   "version": "3.11.6"
  }
 },
 "nbformat": 4,
 "nbformat_minor": 5
}
