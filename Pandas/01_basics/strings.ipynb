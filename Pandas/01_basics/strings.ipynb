{
 "cells": [
  {
   "cell_type": "code",
   "execution_count": 5,
   "id": "f93b17f3-2f52-4f2d-a0ef-8ebba90fcaa7",
   "metadata": {},
   "outputs": [],
   "source": [
    "nome = 'Pedro'\n",
    "\n"
   ]
  },
  {
   "cell_type": "code",
   "execution_count": 7,
   "id": "c81ed2a2-77a5-4291-8c53-a83dc5e6dd07",
   "metadata": {},
   "outputs": [],
   "source": [
    "idade = '20'"
   ]
  },
  {
   "cell_type": "code",
   "execution_count": 8,
   "id": "c74d2627-192f-47e3-b5b6-31855b3f4faf",
   "metadata": {},
   "outputs": [],
   "source": [
    "# format\n",
    "frase_format = \"Óla meu nome é {} e tenho {} anos\".format(nome, idade)"
   ]
  },
  {
   "cell_type": "code",
   "execution_count": 9,
   "id": "fa426037-5ea3-4c71-b2aa-ea9a3f727223",
   "metadata": {},
   "outputs": [
    {
     "data": {
      "text/plain": [
       "'Óla meu nome é Pedro e tenho 20 anos'"
      ]
     },
     "execution_count": 9,
     "metadata": {},
     "output_type": "execute_result"
    }
   ],
   "source": [
    "frase_format"
   ]
  },
  {
   "cell_type": "code",
   "execution_count": 10,
   "id": "a351ca1e-df99-4a3a-82a2-5ccd915bd589",
   "metadata": {},
   "outputs": [],
   "source": [
    "#  f-string\n",
    "\n"
   ]
  },
  {
   "cell_type": "code",
   "execution_count": 12,
   "id": "8d45f2e0-255b-4e00-97c7-9734a0d51e2e",
   "metadata": {},
   "outputs": [],
   "source": [
    "frase_f_string = f\"Óla meu nome é {nome} e tenho {idade} anos\""
   ]
  },
  {
   "cell_type": "code",
   "execution_count": 13,
   "id": "97ec3a1b-65a8-418a-8609-2ccef100b195",
   "metadata": {},
   "outputs": [
    {
     "data": {
      "text/plain": [
       "'Óla meu nome é Pedro e tenho 20 anos'"
      ]
     },
     "execution_count": 13,
     "metadata": {},
     "output_type": "execute_result"
    }
   ],
   "source": [
    "frase_f_string"
   ]
  },
  {
   "cell_type": "code",
   "execution_count": 14,
   "id": "92888638-7b49-49f0-a361-00b084bbc19b",
   "metadata": {},
   "outputs": [],
   "source": [
    "sql = f\"\"\"\n",
    "\n",
    "SELECT * FROM tabela WHERE nome = {nome}\n",
    "\n",
    "\"\"\""
   ]
  },
  {
   "cell_type": "code",
   "execution_count": 15,
   "id": "3f89dcfa-338f-4641-b180-93c3c7be5eab",
   "metadata": {},
   "outputs": [
    {
     "data": {
      "text/plain": [
       "'\\n\\nSELECT * FROM tabela WHERE nome = Pedro\\n\\n'"
      ]
     },
     "execution_count": 15,
     "metadata": {},
     "output_type": "execute_result"
    }
   ],
   "source": [
    "sql"
   ]
  },
  {
   "cell_type": "code",
   "execution_count": 16,
   "id": "1d150789-f2f8-415a-af5f-6b731d3b0280",
   "metadata": {},
   "outputs": [],
   "source": [
    "frase_uper = frase_f_string.upper()"
   ]
  },
  {
   "cell_type": "code",
   "execution_count": 17,
   "id": "00691a69-21c4-4215-9cab-5b3d0e81d99f",
   "metadata": {},
   "outputs": [
    {
     "data": {
      "text/plain": [
       "'ÓLA MEU NOME É PEDRO E TENHO 20 ANOS'"
      ]
     },
     "execution_count": 17,
     "metadata": {},
     "output_type": "execute_result"
    }
   ],
   "source": [
    "frase_uper"
   ]
  },
  {
   "cell_type": "code",
   "execution_count": 18,
   "id": "7dc209cf-a64e-479a-8d02-7b11aa28f84c",
   "metadata": {},
   "outputs": [],
   "source": [
    "frase_lower = frase_f_string.lower()"
   ]
  },
  {
   "cell_type": "code",
   "execution_count": 19,
   "id": "724a9314-cbcf-41e5-bc3b-0b0346450b31",
   "metadata": {},
   "outputs": [
    {
     "data": {
      "text/plain": [
       "'óla meu nome é pedro e tenho 20 anos'"
      ]
     },
     "execution_count": 19,
     "metadata": {},
     "output_type": "execute_result"
    }
   ],
   "source": [
    "frase_lower"
   ]
  },
  {
   "cell_type": "code",
   "execution_count": 20,
   "id": "99b43821-1980-4fb2-bf11-d0b02507b5f2",
   "metadata": {},
   "outputs": [
    {
     "data": {
      "text/plain": [
       "'ÓLA MEU NOME É PEDRO E TENHO 20 ANOS'"
      ]
     },
     "execution_count": 20,
     "metadata": {},
     "output_type": "execute_result"
    }
   ],
   "source": [
    "frase_uper"
   ]
  },
  {
   "cell_type": "code",
   "execution_count": 23,
   "id": "b7f02ce4-0087-49b2-a523-d5a41115075c",
   "metadata": {},
   "outputs": [],
   "source": [
    "#split \n",
    "frase_split = frase_f_string.split(\",\")"
   ]
  },
  {
   "cell_type": "code",
   "execution_count": 24,
   "id": "4ac592f3-5707-4751-9cd6-9afb5a205e86",
   "metadata": {},
   "outputs": [
    {
     "data": {
      "text/plain": [
       "['Óla meu nome é Pedro e tenho 20 anos']"
      ]
     },
     "execution_count": 24,
     "metadata": {},
     "output_type": "execute_result"
    }
   ],
   "source": [
    "frase_split"
   ]
  },
  {
   "cell_type": "code",
   "execution_count": 25,
   "id": "892f2d17-be28-4e4a-9368-39a28308a741",
   "metadata": {},
   "outputs": [],
   "source": [
    "# length\n",
    "frase_length = len(frase_f_string)"
   ]
  },
  {
   "cell_type": "code",
   "execution_count": 26,
   "id": "b5eee3b4-067c-45eb-a88b-284611586895",
   "metadata": {},
   "outputs": [
    {
     "data": {
      "text/plain": [
       "36"
      ]
     },
     "execution_count": 26,
     "metadata": {},
     "output_type": "execute_result"
    }
   ],
   "source": [
    "frase_length"
   ]
  },
  {
   "cell_type": "code",
   "execution_count": 28,
   "id": "32d80e7d-046b-44ea-b8de-fef626ccec84",
   "metadata": {},
   "outputs": [],
   "source": [
    "#join \n",
    "frase_join = \"\".join(frase_split)\n"
   ]
  },
  {
   "cell_type": "code",
   "execution_count": 29,
   "id": "9495f894-df2b-4c2f-ae06-c07f7a657db4",
   "metadata": {},
   "outputs": [
    {
     "data": {
      "text/plain": [
       "'Óla meu nome é Pedro e tenho 20 anos'"
      ]
     },
     "execution_count": 29,
     "metadata": {},
     "output_type": "execute_result"
    }
   ],
   "source": [
    "frase_join"
   ]
  },
  {
   "cell_type": "code",
   "execution_count": 31,
   "id": "e91e184a-03cb-4db2-a276-bcbcfcac9aa8",
   "metadata": {},
   "outputs": [],
   "source": [
    "# start ou endwith \n",
    "comeca_com_ola = frase_join.startswith(\"Óla\")\n"
   ]
  },
  {
   "cell_type": "code",
   "execution_count": 32,
   "id": "7dc1f472-baff-422a-8621-bf98c4072647",
   "metadata": {},
   "outputs": [
    {
     "data": {
      "text/plain": [
       "True"
      ]
     },
     "execution_count": 32,
     "metadata": {},
     "output_type": "execute_result"
    }
   ],
   "source": [
    "comeca_com_ola"
   ]
  },
  {
   "cell_type": "code",
   "execution_count": 40,
   "id": "c9bfb8a5-4b70-42e1-bd4b-c7c6f00845c6",
   "metadata": {},
   "outputs": [],
   "source": [
    "termina_com_ola = frase_join.endswith(\"anos\")"
   ]
  },
  {
   "cell_type": "code",
   "execution_count": 41,
   "id": "6f5afa47-fde8-4c69-a30a-2f9ec0164487",
   "metadata": {},
   "outputs": [
    {
     "data": {
      "text/plain": [
       "True"
      ]
     },
     "execution_count": 41,
     "metadata": {},
     "output_type": "execute_result"
    }
   ],
   "source": [
    "termina_com_ola"
   ]
  },
  {
   "cell_type": "code",
   "execution_count": null,
   "id": "66ccf881-d9f0-4524-9a87-e5881efda5cf",
   "metadata": {},
   "outputs": [],
   "source": [
    "# contains \n",
    "\n",
    "contem_pedro = \n"
   ]
  }
 ],
 "metadata": {
  "kernelspec": {
   "display_name": "Python 3 (ipykernel)",
   "language": "python",
   "name": "python3"
  },
  "language_info": {
   "codemirror_mode": {
    "name": "ipython",
    "version": 3
   },
   "file_extension": ".py",
   "mimetype": "text/x-python",
   "name": "python",
   "nbconvert_exporter": "python",
   "pygments_lexer": "ipython3",
   "version": "3.11.6"
  }
 },
 "nbformat": 4,
 "nbformat_minor": 5
}
