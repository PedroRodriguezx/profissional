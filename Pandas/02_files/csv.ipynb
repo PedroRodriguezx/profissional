{
 "cells": [
  {
   "cell_type": "code",
   "execution_count": 1,
   "id": "54e8ec4f-c04f-43c9-9cf5-6e1ae4e24acb",
   "metadata": {},
   "outputs": [],
   "source": [
    "import csv"
   ]
  },
  {
   "cell_type": "code",
   "execution_count": null,
   "id": "9f7d41fb-e1c7-45ce-a52d-037d3281b8ab",
   "metadata": {},
   "outputs": [],
   "source": [
    "with open('./csv_data/file_1.csv'  , 'r') as arquivo_csv: \n",
    "    dados = csv.DictReader(arquivo_csv, delimiter = ',')\n",
    "    for linha in dados:\n",
    "        print (f\"valor: {linha}\")"
   ]
  },
  {
   "cell_type": "code",
   "execution_count": 5,
   "id": "aeac0dc0-5bb9-4ce1-a423-83165be91b57",
   "metadata": {},
   "outputs": [],
   "source": [
    "dados_paises = [\n",
    "    ['name', 'area', 'country_code2', 'country_code3'  ],\n",
    "    ['Albania', '28784', 'AL', 'ALB' ],\n",
    "    ['Algeria', '23781', 'DZ', 'DZA' ],\n",
    "]"
   ]
  },
  {
   "cell_type": "code",
   "execution_count": 10,
   "id": "94ce1fc0-cdc7-4f16-9721-960b65c142d9",
   "metadata": {},
   "outputs": [],
   "source": [
    "with open('./csv_data/file_2.csv', 'w', encoding='UTF8') as arquivo_csv:\n",
    "    writer = csv.writer(arquivo_csv)\n",
    "    writer.writerows(dados_paises)"
   ]
  },
  {
   "cell_type": "code",
   "execution_count": null,
   "id": "2901ec19-ef13-47be-a1ad-2e3b6146f653",
   "metadata": {},
   "outputs": [],
   "source": []
  }
 ],
 "metadata": {
  "kernelspec": {
   "display_name": "Python 3 (ipykernel)",
   "language": "python",
   "name": "python3"
  },
  "language_info": {
   "codemirror_mode": {
    "name": "ipython",
    "version": 3
   },
   "file_extension": ".py",
   "mimetype": "text/x-python",
   "name": "python",
   "nbconvert_exporter": "python",
   "pygments_lexer": "ipython3",
   "version": "3.11.6"
  }
 },
 "nbformat": 4,
 "nbformat_minor": 5
}
