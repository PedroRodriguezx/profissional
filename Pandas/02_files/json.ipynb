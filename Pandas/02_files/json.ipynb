{
 "cells": [
  {
   "cell_type": "code",
   "execution_count": 1,
   "id": "8594b37f-3494-471a-9e5c-8b8d7bf03142",
   "metadata": {},
   "outputs": [],
   "source": [
    "import json "
   ]
  },
  {
   "cell_type": "code",
   "execution_count": 2,
   "id": "bedd40c2-b654-4a26-977d-3774cc7c6973",
   "metadata": {},
   "outputs": [],
   "source": [
    "with open('./json_data/file_1.json') as arquivo_json1:\n",
    "    dados = json.load(arquivo_json1)"
   ]
  },
  {
   "cell_type": "code",
   "execution_count": null,
   "id": "59d13336-905b-4629-8cb7-bcb9008f3a54",
   "metadata": {},
   "outputs": [],
   "source": [
    " dados"
   ]
  },
  {
   "cell_type": "code",
   "execution_count": 4,
   "id": "4158ab46-e0ef-4866-ac46-b3da549f4c78",
   "metadata": {},
   "outputs": [
    {
     "data": {
      "text/plain": [
       "dict"
      ]
     },
     "execution_count": 4,
     "metadata": {},
     "output_type": "execute_result"
    }
   ],
   "source": [
    "type(dados)"
   ]
  },
  {
   "cell_type": "code",
   "execution_count": 5,
   "id": "9610680a-778a-40a2-ba2b-d050aa8e23e8",
   "metadata": {},
   "outputs": [],
   "source": [
    "temporada = dados.get('season')"
   ]
  },
  {
   "cell_type": "code",
   "execution_count": 6,
   "id": "2da8616c-a5e4-4c91-ad89-d6ca4d49afbf",
   "metadata": {},
   "outputs": [
    {
     "data": {
      "text/plain": [
       "2023"
      ]
     },
     "execution_count": 6,
     "metadata": {},
     "output_type": "execute_result"
    }
   ],
   "source": [
    "temporada"
   ]
  },
  {
   "cell_type": "code",
   "execution_count": 7,
   "id": "3ddea4c0-e1bc-4675-8573-e7a3f894ed78",
   "metadata": {},
   "outputs": [],
   "source": [
    "pilotos = dados.get('pilots')"
   ]
  },
  {
   "cell_type": "code",
   "execution_count": 8,
   "id": "4fa2bae6-c439-42e0-90ac-93661a34379f",
   "metadata": {},
   "outputs": [
    {
     "data": {
      "text/plain": [
       "[{'name': 'Lewis Hamilton', 'team': 'Mercedes', 'nationality': 'British'},\n",
       " {'name': 'Max Verstappen', 'team': 'Red Bull Racing', 'nationality': 'Dutch'},\n",
       " {'name': 'Charles Leclerc', 'team': 'Ferrari', 'nationality': 'Monégasque'}]"
      ]
     },
     "execution_count": 8,
     "metadata": {},
     "output_type": "execute_result"
    }
   ],
   "source": [
    "pilotos"
   ]
  },
  {
   "cell_type": "code",
   "execution_count": 11,
   "id": "a4cadacb-0797-47f6-9bd2-d8f63a50468c",
   "metadata": {},
   "outputs": [],
   "source": [
    "novo_piloto = {\n",
    "    'name': 'Pedro',\n",
    "    'team': 'McLaren',\n",
    "    'nationality': 'Brazilian',\n",
    "    \n",
    "}"
   ]
  },
  {
   "cell_type": "code",
   "execution_count": 12,
   "id": "08498db6-4366-406d-9ddd-dc20b4194b96",
   "metadata": {},
   "outputs": [
    {
     "data": {
      "text/plain": [
       "{'name': 'Pedro', 'team': 'McLaren', 'nationality': 'Brazilian'}"
      ]
     },
     "execution_count": 12,
     "metadata": {},
     "output_type": "execute_result"
    }
   ],
   "source": [
    "novo_piloto"
   ]
  },
  {
   "cell_type": "code",
   "execution_count": 16,
   "id": "71c2d281-9cef-4ebb-b787-9d5361a7ffd4",
   "metadata": {},
   "outputs": [],
   "source": [
    "with open('./json_data/novo_piloto.json', 'w') as arquivo_json2:\n",
    "    json.dump(novo_piloto, arquivo_json2)"
   ]
  },
  {
   "cell_type": "code",
   "execution_count": null,
   "id": "d303a1a8-b64e-4366-806d-56a1ae5f6526",
   "metadata": {},
   "outputs": [],
   "source": []
  }
 ],
 "metadata": {
  "kernelspec": {
   "display_name": "Python 3 (ipykernel)",
   "language": "python",
   "name": "python3"
  },
  "language_info": {
   "codemirror_mode": {
    "name": "ipython",
    "version": 3
   },
   "file_extension": ".py",
   "mimetype": "text/x-python",
   "name": "python",
   "nbconvert_exporter": "python",
   "pygments_lexer": "ipython3",
   "version": "3.11.6"
  }
 },
 "nbformat": 4,
 "nbformat_minor": 5
}
