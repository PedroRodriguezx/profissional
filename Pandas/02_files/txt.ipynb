{
 "cells": [
  {
   "cell_type": "code",
   "execution_count": 3,
   "id": "617ba14b-06a2-43fd-a8ca-e04a1c954ee2",
   "metadata": {},
   "outputs": [
    {
     "name": "stdout",
     "output_type": "stream",
     "text": [
      "example of txt file\n"
     ]
    }
   ],
   "source": [
    "with open('./txt_data/file_1.txt', 'r') as arquivo:\n",
    "    conteudo = arquivo.read()\n",
    "    print (conteudo)"
   ]
  },
  {
   "cell_type": "code",
   "execution_count": 14,
   "id": "c49957c2-051b-4038-9901-57b984b8d1d8",
   "metadata": {},
   "outputs": [
    {
     "name": "stdout",
     "output_type": "stream",
     "text": [
      "PYTHON\n",
      "IS\n",
      "AWESOME\n"
     ]
    }
   ],
   "source": [
    "with open('./txt_data/file_2.txt', 'r') as arquivo_multilinha:\n",
    "    conteudo_multilinha = arquivo_multilinha.read().splitlines()\n",
    "    \n",
    "    for linha in conteudo_multilinha :\n",
    "        print (linha.upper())\n",
    "    "
   ]
  },
  {
   "cell_type": "code",
   "execution_count": 22,
   "id": "4d4cff5c-bfb6-4600-a3b1-5339bc735139",
   "metadata": {},
   "outputs": [],
   "source": [
    "with open('./txt_data/file_4.txt', 'w') as arquivo_3:\n",
    "    arquivo_3.write('conteudo_multilinha')"
   ]
  },
  {
   "cell_type": "code",
   "execution_count": null,
   "id": "1e39e97b-dce7-46b7-9497-a2e88b3a75b6",
   "metadata": {},
   "outputs": [],
   "source": []
  }
 ],
 "metadata": {
  "kernelspec": {
   "display_name": "Python 3 (ipykernel)",
   "language": "python",
   "name": "python3"
  },
  "language_info": {
   "codemirror_mode": {
    "name": "ipython",
    "version": 3
   },
   "file_extension": ".py",
   "mimetype": "text/x-python",
   "name": "python",
   "nbconvert_exporter": "python",
   "pygments_lexer": "ipython3",
   "version": "3.11.6"
  }
 },
 "nbformat": 4,
 "nbformat_minor": 5
}
