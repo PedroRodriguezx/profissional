{
 "cells": [
  {
   "cell_type": "code",
   "execution_count": 14,
   "id": "d9371ed6-eb7e-43c8-9c36-535364db4c13",
   "metadata": {},
   "outputs": [
    {
     "name": "stdout",
     "output_type": "stream",
     "text": [
      "Requirement already satisfied: dicttoxml in /opt/conda/lib/python3.11/site-packages (1.7.16)\n"
     ]
    }
   ],
   "source": [
    "!pip install dicttoxml\n",
    "import xml.etree.ElementTree as ET \n",
    "import dicttoxml"
   ]
  },
  {
   "cell_type": "code",
   "execution_count": 4,
   "id": "102a2c8c-12c2-4e2b-a5a5-69178703dc3d",
   "metadata": {},
   "outputs": [],
   "source": [
    "arvore = ET.parse('./xml_data/file_1.xml')"
   ]
  },
  {
   "cell_type": "code",
   "execution_count": 6,
   "id": "d4314ffa-9e4d-4c97-973a-80038e4eda66",
   "metadata": {},
   "outputs": [],
   "source": [
    "raiz = arvore.getroot()"
   ]
  },
  {
   "cell_type": "code",
   "execution_count": 7,
   "id": "f32a2729-cdd4-4bd6-8e05-71028df274cd",
   "metadata": {},
   "outputs": [
    {
     "data": {
      "text/plain": [
       "<Element 'data' at 0x7f402349fab0>"
      ]
     },
     "execution_count": 7,
     "metadata": {},
     "output_type": "execute_result"
    }
   ],
   "source": [
    "raiz"
   ]
  },
  {
   "cell_type": "code",
   "execution_count": 10,
   "id": "4a274ca9-bc67-4e34-bddf-8b33c187006f",
   "metadata": {},
   "outputs": [
    {
     "name": "stdout",
     "output_type": "stream",
     "text": [
      "{'name': 'item1'}\n",
      "item1abc\n",
      "{'name': 'item2'}\n",
      "item2abc\n"
     ]
    }
   ],
   "source": [
    "for elemento in raiz:\n",
    "    for sub_elemento in elemento.findall('item'):\n",
    "        print(sub_elemento.attrib)\n",
    "        print(sub_elemento.text)"
   ]
  },
  {
   "cell_type": "code",
   "execution_count": 12,
   "id": "a94663da-3278-4ebd-8875-e411f026ab21",
   "metadata": {},
   "outputs": [],
   "source": [
    "novo_piloto = {\n",
    "    'name': 'Pedro',\n",
    "    'team': 'McLaren',\n",
    "    'nationality': 'Brazilian',\n",
    "    \n",
    "}"
   ]
  },
  {
   "cell_type": "code",
   "execution_count": 15,
   "id": "236cb327-2837-4bd3-bae6-2141e74a3948",
   "metadata": {},
   "outputs": [],
   "source": [
    "xml = dicttoxml.dicttoxml(novo_piloto)"
   ]
  },
  {
   "cell_type": "code",
   "execution_count": 17,
   "id": "028e5ab7-06da-41b2-97a3-77e5e0449de7",
   "metadata": {},
   "outputs": [],
   "source": [
    "with open('./xml_data/novo_piloto.xml', 'w') as f:\n",
    "    f.write(str(xml, 'UTF-8'))"
   ]
  },
  {
   "cell_type": "code",
   "execution_count": null,
   "id": "a5405fa2-a40f-4273-9e18-10a3d146e93a",
   "metadata": {},
   "outputs": [],
   "source": []
  }
 ],
 "metadata": {
  "kernelspec": {
   "display_name": "Python 3 (ipykernel)",
   "language": "python",
   "name": "python3"
  },
  "language_info": {
   "codemirror_mode": {
    "name": "ipython",
    "version": 3
   },
   "file_extension": ".py",
   "mimetype": "text/x-python",
   "name": "python",
   "nbconvert_exporter": "python",
   "pygments_lexer": "ipython3",
   "version": "3.11.6"
  }
 },
 "nbformat": 4,
 "nbformat_minor": 5
}
