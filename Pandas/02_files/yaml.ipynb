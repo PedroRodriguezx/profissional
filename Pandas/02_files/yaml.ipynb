{
 "cells": [
  {
   "cell_type": "code",
   "execution_count": 9,
   "id": "c8174341-0f57-40ad-b40d-ed5ede0a1dfd",
   "metadata": {},
   "outputs": [
    {
     "name": "stdout",
     "output_type": "stream",
     "text": [
      "Requirement already satisfied: pyyaml in /opt/conda/lib/python3.11/site-packages (6.0.1)\n"
     ]
    }
   ],
   "source": [
    "!pip install pyyaml"
   ]
  },
  {
   "cell_type": "code",
   "execution_count": 6,
   "id": "c642db46-e3c0-48c2-b1df-b39d69b9c955",
   "metadata": {},
   "outputs": [],
   "source": [
    "import yaml"
   ]
  },
  {
   "cell_type": "code",
   "execution_count": 19,
   "id": "e229048f-0fd5-4a9d-a1f3-d9b707fec051",
   "metadata": {},
   "outputs": [
    {
     "name": "stdout",
     "output_type": "stream",
     "text": [
      "{'computador': {'monitor': 'LG-21\"', 'memoria': {'ram': '16gb'}, 'disco': {'ssd': '256gb', 'hdd': '1tb'}, 'cpu': {'model': 'ryzen 5600x'}}}\n"
     ]
    }
   ],
   "source": [
    "with open('./yaml_data/file_1.yaml', 'r') as arquivo_yaml:\n",
    "    try: \n",
    "        dados = yaml.load(arquivo_yaml, Loader=yaml.FullLoader)\n",
    "        print (dados)\n",
    "    except Exception as erro:\n",
    "        print (f\"erro: {erro}\")"
   ]
  },
  {
   "cell_type": "code",
   "execution_count": 21,
   "id": "f4c1cc61-7f8f-4120-b40f-4af3e0ee8e57",
   "metadata": {},
   "outputs": [],
   "source": [
    "dados = {\n",
    "    'list': [1, 42, 3.141, 1337, 'help'],\n",
    "    'string': 'bla',\n",
    "    'dict': {\n",
    "        'foo': 'bar',\n",
    "        'key': 'value',\n",
    "        'bar': 50\n",
    "    }\n",
    "}\n"
   ]
  },
  {
   "cell_type": "code",
   "execution_count": 22,
   "id": "c5f23e6a-c0d0-4142-8e3c-44fb554534e5",
   "metadata": {},
   "outputs": [],
   "source": [
    "with open('./yaml_data/dados.yaml', 'w') as yaml_gravado:\n",
    "    yaml.dump(dados, yaml_gravado)"
   ]
  },
  {
   "cell_type": "code",
   "execution_count": null,
   "id": "64a6ca09-2cf4-463a-96a1-30cf40e4d2ae",
   "metadata": {},
   "outputs": [],
   "source": []
  }
 ],
 "metadata": {
  "kernelspec": {
   "display_name": "Python 3 (ipykernel)",
   "language": "python",
   "name": "python3"
  },
  "language_info": {
   "codemirror_mode": {
    "name": "ipython",
    "version": 3
   },
   "file_extension": ".py",
   "mimetype": "text/x-python",
   "name": "python",
   "nbconvert_exporter": "python",
   "pygments_lexer": "ipython3",
   "version": "3.11.6"
  }
 },
 "nbformat": 4,
 "nbformat_minor": 5
}
