{
 "cells": [
  {
   "cell_type": "code",
   "execution_count": 1,
   "id": "65d12c4d-18f6-4241-a7b3-6f863a0a9463",
   "metadata": {},
   "outputs": [],
   "source": [
    "import zipfile"
   ]
  },
  {
   "cell_type": "code",
   "execution_count": 4,
   "id": "af50e745-3cca-4c28-86e2-0eba5d62bb1c",
   "metadata": {},
   "outputs": [],
   "source": [
    "with zipfile.ZipFile('./zip_data/files_1.zip') as zipp:\n",
    "    zipp.extractall('./zip_data/unzip')"
   ]
  },
  {
   "cell_type": "code",
   "execution_count": 5,
   "id": "8eb1b1a4-1f5c-46a6-971a-dfd04f67d43d",
   "metadata": {},
   "outputs": [],
   "source": [
    "import shutil "
   ]
  },
  {
   "cell_type": "code",
   "execution_count": 6,
   "id": "45433a7c-7f49-4a8e-b0d4-1a1488917fb2",
   "metadata": {},
   "outputs": [
    {
     "data": {
      "text/plain": [
       "'/home/jovyan/work/02_files/zip_data/pasta_zipada.zip.zip'"
      ]
     },
     "execution_count": 6,
     "metadata": {},
     "output_type": "execute_result"
    }
   ],
   "source": [
    "# Destino, Formato, Pasta\n",
    "shutil.make_archive('./zip_data/pasta_zipada.zip', 'zip', './zip_data/to_zip')"
   ]
  },
  {
   "cell_type": "code",
   "execution_count": null,
   "id": "9343669e-d8ff-41d6-951b-07e63dfd387f",
   "metadata": {},
   "outputs": [],
   "source": []
  }
 ],
 "metadata": {
  "kernelspec": {
   "display_name": "Python 3 (ipykernel)",
   "language": "python",
   "name": "python3"
  },
  "language_info": {
   "codemirror_mode": {
    "name": "ipython",
    "version": 3
   },
   "file_extension": ".py",
   "mimetype": "text/x-python",
   "name": "python",
   "nbconvert_exporter": "python",
   "pygments_lexer": "ipython3",
   "version": "3.11.6"
  }
 },
 "nbformat": 4,
 "nbformat_minor": 5
}
