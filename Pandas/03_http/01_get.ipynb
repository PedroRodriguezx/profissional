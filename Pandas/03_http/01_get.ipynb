{
 "cells": [
  {
   "cell_type": "code",
   "execution_count": null,
   "id": "f88e6d37-2ba1-45d7-b6da-395f25c6c685",
   "metadata": {},
   "outputs": [],
   "source": [
    "!pip install requests"
   ]
  },
  {
   "cell_type": "code",
   "execution_count": 2,
   "id": "1537a308-45a6-4486-9752-bbec0623bef7",
   "metadata": {},
   "outputs": [],
   "source": [
    "import requests"
   ]
  },
  {
   "cell_type": "code",
   "execution_count": 3,
   "id": "b855a4f6-9514-4705-9d81-49de60d98465",
   "metadata": {},
   "outputs": [],
   "source": [
    "url = \"https://gorest.co.in/public/v2/users\""
   ]
  },
  {
   "cell_type": "code",
   "execution_count": 4,
   "id": "9915bbfd-de75-4fe4-ac8b-28a5357ed871",
   "metadata": {},
   "outputs": [],
   "source": [
    "resposta = requests.get(url)"
   ]
  },
  {
   "cell_type": "code",
   "execution_count": 5,
   "id": "2e0e216b-71fc-4415-bb80-3f65fb80fc8a",
   "metadata": {},
   "outputs": [
    {
     "data": {
      "text/plain": [
       "<Response [200]>"
      ]
     },
     "execution_count": 5,
     "metadata": {},
     "output_type": "execute_result"
    }
   ],
   "source": [
    "resposta"
   ]
  },
  {
   "cell_type": "code",
   "execution_count": 14,
   "id": "47e4b394-ded2-4ec3-973c-1bdc9a1150a6",
   "metadata": {},
   "outputs": [],
   "source": [
    "status_resposta = resposta.status_code"
   ]
  },
  {
   "cell_type": "code",
   "execution_count": 11,
   "id": "3f74fe7a-4ac5-40ca-9e5d-33acea9476bd",
   "metadata": {},
   "outputs": [],
   "source": [
    "dados = resposta.json()"
   ]
  },
  {
   "cell_type": "code",
   "execution_count": 12,
   "id": "15468840-166c-43da-95da-79dd008e8096",
   "metadata": {},
   "outputs": [
    {
     "data": {
      "text/plain": [
       "[{'id': 5832743,\n",
       "  'name': 'Charumati Nehru',\n",
       "  'email': 'nehru_charumati@hodkiewicz-kihn.example',\n",
       "  'gender': 'male',\n",
       "  'status': 'active'},\n",
       " {'id': 5832740,\n",
       "  'name': 'Msgr. Sudeva Sinha',\n",
       "  'email': 'msgr_sudeva_sinha@boyle.test',\n",
       "  'gender': 'female',\n",
       "  'status': 'inactive'},\n",
       " {'id': 5832736,\n",
       "  'name': 'Dhanalakshmi Khan',\n",
       "  'email': 'dhanalakshmi_khan@goldner.example',\n",
       "  'gender': 'female',\n",
       "  'status': 'active'},\n",
       " {'id': 5832734,\n",
       "  'name': 'Ranjeet Sharma',\n",
       "  'email': 'sharma_ranjeet@mertz.test',\n",
       "  'gender': 'male',\n",
       "  'status': 'active'},\n",
       " {'id': 5832733,\n",
       "  'name': 'Tushar Panicker',\n",
       "  'email': 'tushar_panicker@ferry.test',\n",
       "  'gender': 'male',\n",
       "  'status': 'active'},\n",
       " {'id': 5832732,\n",
       "  'name': 'Somu Sethi',\n",
       "  'email': 'somu_sethi@wiegand.test',\n",
       "  'gender': 'male',\n",
       "  'status': 'inactive'},\n",
       " {'id': 5832731,\n",
       "  'name': 'Dr. Menka Jain',\n",
       "  'email': 'menka_jain_dr@olson.example',\n",
       "  'gender': 'female',\n",
       "  'status': 'active'},\n",
       " {'id': 5832730,\n",
       "  'name': 'Aaditya Marar II',\n",
       "  'email': 'marar_ii_aaditya@rohan-turcotte.test',\n",
       "  'gender': 'female',\n",
       "  'status': 'active'},\n",
       " {'id': 5832729,\n",
       "  'name': 'Miss Ashok Varman',\n",
       "  'email': 'varman_miss_ashok@fahey.test',\n",
       "  'gender': 'male',\n",
       "  'status': 'active'},\n",
       " {'id': 5832728,\n",
       "  'name': 'Alok Bhattacharya',\n",
       "  'email': 'alok_bhattacharya@baumbach.example',\n",
       "  'gender': 'male',\n",
       "  'status': 'active'}]"
      ]
     },
     "execution_count": 12,
     "metadata": {},
     "output_type": "execute_result"
    }
   ],
   "source": [
    "dados"
   ]
  },
  {
   "cell_type": "code",
   "execution_count": null,
   "id": "82218bfb-b5dc-4eae-b34d-df7db4e515c6",
   "metadata": {},
   "outputs": [],
   "source": [
    "resposta.headers"
   ]
  },
  {
   "cell_type": "code",
   "execution_count": 16,
   "id": "5005ed64-f253-46df-a8e1-22044d20765f",
   "metadata": {},
   "outputs": [
    {
     "name": "stdout",
     "output_type": "stream",
     "text": [
      "[{'id': 5832743, 'name': 'Charumati Nehru', 'email': 'nehru_charumati@hodkiewicz-kihn.example', 'gender': 'male', 'status': 'active'}, {'id': 5832740, 'name': 'Msgr. Sudeva Sinha', 'email': 'msgr_sudeva_sinha@boyle.test', 'gender': 'female', 'status': 'inactive'}, {'id': 5832736, 'name': 'Dhanalakshmi Khan', 'email': 'dhanalakshmi_khan@goldner.example', 'gender': 'female', 'status': 'active'}, {'id': 5832734, 'name': 'Ranjeet Sharma', 'email': 'sharma_ranjeet@mertz.test', 'gender': 'male', 'status': 'active'}, {'id': 5832733, 'name': 'Tushar Panicker', 'email': 'tushar_panicker@ferry.test', 'gender': 'male', 'status': 'active'}, {'id': 5832732, 'name': 'Somu Sethi', 'email': 'somu_sethi@wiegand.test', 'gender': 'male', 'status': 'inactive'}, {'id': 5832731, 'name': 'Dr. Menka Jain', 'email': 'menka_jain_dr@olson.example', 'gender': 'female', 'status': 'active'}, {'id': 5832730, 'name': 'Aaditya Marar II', 'email': 'marar_ii_aaditya@rohan-turcotte.test', 'gender': 'female', 'status': 'active'}, {'id': 5832729, 'name': 'Miss Ashok Varman', 'email': 'varman_miss_ashok@fahey.test', 'gender': 'male', 'status': 'active'}, {'id': 5832728, 'name': 'Alok Bhattacharya', 'email': 'alok_bhattacharya@baumbach.example', 'gender': 'male', 'status': 'active'}]\n"
     ]
    }
   ],
   "source": [
    "if status_resposta == 200:\n",
    "    usuarios = resposta.json()\n",
    "    print(usuarios)\n",
    "else: \n",
    "    print(f'Algo de errado aconteceu: {status_resposta}')"
   ]
  },
  {
   "cell_type": "code",
   "execution_count": null,
   "id": "e417f80a-c899-4932-b9af-317fc07c2372",
   "metadata": {},
   "outputs": [],
   "source": []
  }
 ],
 "metadata": {
  "kernelspec": {
   "display_name": "Python 3 (ipykernel)",
   "language": "python",
   "name": "python3"
  },
  "language_info": {
   "codemirror_mode": {
    "name": "ipython",
    "version": 3
   },
   "file_extension": ".py",
   "mimetype": "text/x-python",
   "name": "python",
   "nbconvert_exporter": "python",
   "pygments_lexer": "ipython3",
   "version": "3.11.6"
  }
 },
 "nbformat": 4,
 "nbformat_minor": 5
}
