{
 "cells": [
  {
   "cell_type": "code",
   "execution_count": 14,
   "id": "978a245c-444a-4468-a3ba-c9bd23644eca",
   "metadata": {},
   "outputs": [],
   "source": [
    "import requests"
   ]
  },
  {
   "cell_type": "code",
   "execution_count": 20,
   "id": "5cabc848-7aba-40f5-88eb-c52a42b0b83e",
   "metadata": {},
   "outputs": [],
   "source": [
    "url = \"https://gorest.co.in/public/v2/users\"\n",
    "token = \"93e097e111f5d0b941ea3918c289cc5e978f0f90de21e4f5a1ea8a710c900c8a\""
   ]
  },
  {
   "cell_type": "code",
   "execution_count": 21,
   "id": "453788ea-5ed9-4a84-8c62-0ad3ec5b833c",
   "metadata": {},
   "outputs": [],
   "source": [
    "headers = {\n",
    "    \"Authorization\": f\"Bearer { token }\"\n",
    "}"
   ]
  },
  {
   "cell_type": "code",
   "execution_count": 43,
   "id": "15dabc9c-f572-4470-b5ac-d525bf720624",
   "metadata": {},
   "outputs": [],
   "source": [
    "data = {\n",
    "    \"name\": 'pedro',\n",
    "    \"gender\": 'male',\n",
    "    \"email\": 'pedro@co.in',\n",
    "    \"status\": 'active'\n",
    "}"
   ]
  },
  {
   "cell_type": "code",
   "execution_count": 44,
   "id": "907075fa-b53a-493b-a65f-b51d7b26ef29",
   "metadata": {},
   "outputs": [],
   "source": [
    "resposta = requests.post(\n",
    "    url,\n",
    "    headers=headers,\n",
    "    data=data\n",
    ")"
   ]
  },
  {
   "cell_type": "code",
   "execution_count": 45,
   "id": "7e3b0efc-fb0c-4d2c-bc1d-1a6c6d6329cb",
   "metadata": {},
   "outputs": [
    {
     "data": {
      "text/plain": [
       "<Response [422]>"
      ]
     },
     "execution_count": 45,
     "metadata": {},
     "output_type": "execute_result"
    }
   ],
   "source": [
    "resposta"
   ]
  },
  {
   "cell_type": "code",
   "execution_count": 46,
   "id": "2e57946f-2cd4-4504-9a3a-19dfcd271239",
   "metadata": {},
   "outputs": [],
   "source": [
    "usuario_pedro = resposta.json()"
   ]
  },
  {
   "cell_type": "code",
   "execution_count": 47,
   "id": "7ebe17b8-0e36-4536-ae73-57d7e5215103",
   "metadata": {},
   "outputs": [
    {
     "data": {
      "text/plain": [
       "[{'field': 'email', 'message': 'has already been taken'}]"
      ]
     },
     "execution_count": 47,
     "metadata": {},
     "output_type": "execute_result"
    }
   ],
   "source": [
    "usuario_pedro"
   ]
  },
  {
   "cell_type": "code",
   "execution_count": 48,
   "id": "53bb1dec-0f30-47fd-8f4f-75cf95efce07",
   "metadata": {},
   "outputs": [],
   "source": [
    "pedro_id = \"5833444\""
   ]
  },
  {
   "cell_type": "code",
   "execution_count": null,
   "id": "33e143fe-76c1-4e1b-a020-67063e3e10e2",
   "metadata": {},
   "outputs": [],
   "source": []
  }
 ],
 "metadata": {
  "kernelspec": {
   "display_name": "Python 3 (ipykernel)",
   "language": "python",
   "name": "python3"
  },
  "language_info": {
   "codemirror_mode": {
    "name": "ipython",
    "version": 3
   },
   "file_extension": ".py",
   "mimetype": "text/x-python",
   "name": "python",
   "nbconvert_exporter": "python",
   "pygments_lexer": "ipython3",
   "version": "3.11.6"
  }
 },
 "nbformat": 4,
 "nbformat_minor": 5
}
