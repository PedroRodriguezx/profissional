{
 "cells": [
  {
   "cell_type": "code",
   "execution_count": 5,
   "id": "d39609b7-d8e3-4982-82c1-c1abf227f014",
   "metadata": {},
   "outputs": [],
   "source": [
    "import requests"
   ]
  },
  {
   "cell_type": "code",
   "execution_count": 6,
   "id": "7e4df73f-8355-41f0-8794-02f7797c69ff",
   "metadata": {},
   "outputs": [],
   "source": [
    "url = \"https://gorest.co.in/public/v2/users\"\n",
    "token = \"93e097e111f5d0b941ea3918c289cc5e978f0f90de21e4f5a1ea8a710c900c8a\""
   ]
  },
  {
   "cell_type": "code",
   "execution_count": 40,
   "id": "2f1a6bca-aa55-4542-a461-c9aff84acce7",
   "metadata": {},
   "outputs": [],
   "source": [
    "headers = {\n",
    "    \"Authorization\": f\"Bearer { token }\"\n",
    "}"
   ]
  },
  {
   "cell_type": "code",
   "execution_count": 41,
   "id": "2f083f8f-3f84-4e88-af61-2ffaa29d02a3",
   "metadata": {},
   "outputs": [],
   "source": [
    "pedro_id = \"5833444\""
   ]
  },
  {
   "cell_type": "code",
   "execution_count": 42,
   "id": "71a497a9-b879-4067-a362-ac2286a5c207",
   "metadata": {},
   "outputs": [],
   "source": [
    "url_usuario = \"https://gorest.co.in/public/v2/users/5833444\""
   ]
  },
  {
   "cell_type": "code",
   "execution_count": 43,
   "id": "3ddd06eb-ff34-44db-ba07-f94f37758963",
   "metadata": {},
   "outputs": [
    {
     "data": {
      "text/plain": [
       "'https://gorest.co.in/public/v2/users/5833444'"
      ]
     },
     "execution_count": 43,
     "metadata": {},
     "output_type": "execute_result"
    }
   ],
   "source": [
    "url_usuario"
   ]
  },
  {
   "cell_type": "code",
   "execution_count": 44,
   "id": "395b5562-1246-41d0-8f3d-0ae7b8f276c7",
   "metadata": {},
   "outputs": [],
   "source": [
    "status_usuario = requests.get(url_usuario, headers=headers)"
   ]
  },
  {
   "cell_type": "code",
   "execution_count": 45,
   "id": "eb40d100-1b26-43e0-84dd-116489c77feb",
   "metadata": {},
   "outputs": [],
   "source": [
    "resposta_json = status_usuario.json()"
   ]
  },
  {
   "cell_type": "code",
   "execution_count": 46,
   "id": "0fa30587-29f4-4678-b577-cb14c7b5c89f",
   "metadata": {},
   "outputs": [
    {
     "data": {
      "text/plain": [
       "'inactive'"
      ]
     },
     "execution_count": 46,
     "metadata": {},
     "output_type": "execute_result"
    }
   ],
   "source": [
    "resposta_json.get('status')"
   ]
  },
  {
   "cell_type": "code",
   "execution_count": 47,
   "id": "f754c2d9-7322-4446-be98-95496439284b",
   "metadata": {},
   "outputs": [],
   "source": [
    "dados = {\n",
    "    'id': pedro_id,\n",
    "    'status': 'inactive'\n",
    "}"
   ]
  },
  {
   "cell_type": "code",
   "execution_count": 48,
   "id": "21cf782f-bea0-44f3-ab7f-059e671dbd5f",
   "metadata": {},
   "outputs": [
    {
     "data": {
      "text/plain": [
       "'5833444'"
      ]
     },
     "execution_count": 48,
     "metadata": {},
     "output_type": "execute_result"
    }
   ],
   "source": [
    "pedro_id"
   ]
  },
  {
   "cell_type": "code",
   "execution_count": 49,
   "id": "fde0073f-a0ce-4736-9908-425c85ad1f1c",
   "metadata": {},
   "outputs": [
    {
     "data": {
      "text/plain": [
       "'https://gorest.co.in/public/v2/users/5833444'"
      ]
     },
     "execution_count": 49,
     "metadata": {},
     "output_type": "execute_result"
    }
   ],
   "source": [
    "url_usuario"
   ]
  },
  {
   "cell_type": "code",
   "execution_count": 50,
   "id": "68d1eb66-b26d-4abd-bce9-dc7575c0494d",
   "metadata": {},
   "outputs": [],
   "source": [
    "request = requests.patch(url_usuario, headers=headers, data=dados)"
   ]
  },
  {
   "cell_type": "code",
   "execution_count": null,
   "id": "593ad784-3765-4e77-bdd4-dffb63b80dc4",
   "metadata": {},
   "outputs": [],
   "source": []
  }
 ],
 "metadata": {
  "kernelspec": {
   "display_name": "Python 3 (ipykernel)",
   "language": "python",
   "name": "python3"
  },
  "language_info": {
   "codemirror_mode": {
    "name": "ipython",
    "version": 3
   },
   "file_extension": ".py",
   "mimetype": "text/x-python",
   "name": "python",
   "nbconvert_exporter": "python",
   "pygments_lexer": "ipython3",
   "version": "3.11.6"
  }
 },
 "nbformat": 4,
 "nbformat_minor": 5
}
