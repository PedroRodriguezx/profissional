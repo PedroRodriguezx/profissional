{
 "cells": [
  {
   "cell_type": "code",
   "execution_count": 1,
   "id": "b12b1c6d-97dd-4592-b6dd-13b5e073e293",
   "metadata": {},
   "outputs": [],
   "source": [
    "pedro_id = \"5833444\""
   ]
  },
  {
   "cell_type": "code",
   "execution_count": 2,
   "id": "0c12e8b4-6b29-479e-82ff-0903f4667f03",
   "metadata": {},
   "outputs": [],
   "source": [
    "url = \"https://gorest.co.in/public/v2/users\"\n",
    "token = \"93e097e111f5d0b941ea3918c289cc5e978f0f90de21e4f5a1ea8a710c900c8a\""
   ]
  },
  {
   "cell_type": "code",
   "execution_count": 3,
   "id": "3ec09f2f-d1bc-47fd-af91-c35028402407",
   "metadata": {},
   "outputs": [],
   "source": [
    "import requests"
   ]
  },
  {
   "cell_type": "code",
   "execution_count": 11,
   "id": "bb5b344b-0d2c-4146-89b7-d830a95e2642",
   "metadata": {},
   "outputs": [],
   "source": [
    "url_usuario = f\"{url}/{pedro_id}\""
   ]
  },
  {
   "cell_type": "code",
   "execution_count": 12,
   "id": "65b9bd8a-6858-4531-a7d9-e4423244cf64",
   "metadata": {},
   "outputs": [],
   "source": [
    "headers = {\n",
    "    \"Authorization\": f\"Bearer { token }\"\n",
    "}"
   ]
  },
  {
   "cell_type": "code",
   "execution_count": 13,
   "id": "7cb9d3b3-f1e3-481f-8fc9-2d1f9078576b",
   "metadata": {},
   "outputs": [],
   "source": [
    "dados = {\n",
    "    'id': pedro_id\n",
    "}"
   ]
  },
  {
   "cell_type": "code",
   "execution_count": 15,
   "id": "f81bfe5c-16fb-4f02-9b06-8aada5c2c039",
   "metadata": {},
   "outputs": [],
   "source": [
    "usuario_removido = requests.delete(url_usuario, headers=headers, data=dados )"
   ]
  },
  {
   "cell_type": "code",
   "execution_count": 16,
   "id": "296a524a-b3bf-4d2e-ba0d-0fcec0ea05c2",
   "metadata": {},
   "outputs": [
    {
     "data": {
      "text/plain": [
       "<Response [204]>"
      ]
     },
     "execution_count": 16,
     "metadata": {},
     "output_type": "execute_result"
    }
   ],
   "source": [
    "usuario_removido"
   ]
  },
  {
   "cell_type": "code",
   "execution_count": null,
   "id": "f3a4c18e-4666-4222-b4a0-c15f6e55dc1c",
   "metadata": {},
   "outputs": [],
   "source": []
  }
 ],
 "metadata": {
  "kernelspec": {
   "display_name": "Python 3 (ipykernel)",
   "language": "python",
   "name": "python3"
  },
  "language_info": {
   "codemirror_mode": {
    "name": "ipython",
    "version": 3
   },
   "file_extension": ".py",
   "mimetype": "text/x-python",
   "name": "python",
   "nbconvert_exporter": "python",
   "pygments_lexer": "ipython3",
   "version": "3.11.6"
  }
 },
 "nbformat": 4,
 "nbformat_minor": 5
}
