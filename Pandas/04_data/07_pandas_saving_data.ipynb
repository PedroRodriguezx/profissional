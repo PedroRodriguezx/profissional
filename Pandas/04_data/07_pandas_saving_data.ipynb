{
 "cells": [
  {
   "cell_type": "code",
   "execution_count": 2,
   "id": "aaab341a-adea-4208-8c00-e340b8121389",
   "metadata": {},
   "outputs": [],
   "source": [
    "import pandas as pd\n",
    "from datetime import datetime as dt"
   ]
  },
  {
   "cell_type": "code",
   "execution_count": 3,
   "id": "797c3f14-91ce-4958-bf7a-3ba3dac9756c",
   "metadata": {},
   "outputs": [],
   "source": [
    "df_users = pd.read_csv ('./data/users.csv')"
   ]
  },
  {
   "cell_type": "code",
   "execution_count": 4,
   "id": "3e2bc240-be37-4b82-9175-bc882cc951a7",
   "metadata": {},
   "outputs": [],
   "source": [
    "df_users['created_datetime'] = dt.now()"
   ]
  },
  {
   "cell_type": "code",
   "execution_count": 5,
   "id": "48d1d141-4f50-4d92-9c83-643d2cea224f",
   "metadata": {},
   "outputs": [],
   "source": [
    "df_users.to_csv ('./data/raw/csv/users.csv', index=False)"
   ]
  },
  {
   "cell_type": "code",
   "execution_count": 8,
   "id": "28a85945-94b9-458b-baa0-a8dda4a9eb3a",
   "metadata": {},
   "outputs": [],
   "source": [
    "df_users.to_json ('./data/raw/json/users.json', orient='records')"
   ]
  },
  {
   "cell_type": "code",
   "execution_count": null,
   "id": "ea8f19c6-a03a-4f3f-98c9-1dc7b2c3e8a4",
   "metadata": {},
   "outputs": [],
   "source": []
  }
 ],
 "metadata": {
  "kernelspec": {
   "display_name": "Python 3 (ipykernel)",
   "language": "python",
   "name": "python3"
  },
  "language_info": {
   "codemirror_mode": {
    "name": "ipython",
    "version": 3
   },
   "file_extension": ".py",
   "mimetype": "text/x-python",
   "name": "python",
   "nbconvert_exporter": "python",
   "pygments_lexer": "ipython3",
   "version": "3.11.6"
  }
 },
 "nbformat": 4,
 "nbformat_minor": 5
}
