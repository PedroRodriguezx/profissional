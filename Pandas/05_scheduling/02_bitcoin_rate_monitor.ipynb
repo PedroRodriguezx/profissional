{
 "cells": [
  {
   "cell_type": "code",
   "execution_count": 1,
   "id": "c5a9cd63-65d4-420a-8152-21234f1c891a",
   "metadata": {},
   "outputs": [
    {
     "name": "stdout",
     "output_type": "stream",
     "text": [
      "Requirement already satisfied: requests in /opt/conda/lib/python3.11/site-packages (2.31.0)\n",
      "Requirement already satisfied: charset-normalizer<4,>=2 in /opt/conda/lib/python3.11/site-packages (from requests) (3.3.0)\n",
      "Requirement already satisfied: idna<4,>=2.5 in /opt/conda/lib/python3.11/site-packages (from requests) (3.4)\n",
      "Requirement already satisfied: urllib3<3,>=1.21.1 in /opt/conda/lib/python3.11/site-packages (from requests) (2.0.7)\n",
      "Requirement already satisfied: certifi>=2017.4.17 in /opt/conda/lib/python3.11/site-packages (from requests) (2023.7.22)\n"
     ]
    }
   ],
   "source": [
    "!pip install requests"
   ]
  },
  {
   "cell_type": "code",
   "execution_count": 3,
   "id": "ef98d194-6070-4a30-9f6a-a0760c46fe21",
   "metadata": {},
   "outputs": [],
   "source": [
    "import requests"
   ]
  },
  {
   "cell_type": "code",
   "execution_count": 9,
   "id": "edecbe81-d7e3-486f-a4cf-1d63a404058e",
   "metadata": {},
   "outputs": [],
   "source": [
    "def extract_bitcoin_rate():\n",
    "\n",
    "    url = 'https://api.coindesk.com/v1/bpi/currentprice.json'\n",
    "    response = requests.get(url)\n",
    "    \n",
    "    return response.json()"
   ]
  },
  {
   "cell_type": "code",
   "execution_count": 10,
   "id": "9b3ef38d-f9ec-42fd-8aa1-0e1acd5cc24f",
   "metadata": {},
   "outputs": [],
   "source": [
    "taxa = extract_bitcoin_rate()"
   ]
  },
  {
   "cell_type": "code",
   "execution_count": 11,
   "id": "54c3d9e1-c5c0-405f-9a96-ebc80859312d",
   "metadata": {},
   "outputs": [
    {
     "data": {
      "text/plain": [
       "{'time': {'updated': 'Dec 28, 2023 19:59:00 UTC',\n",
       "  'updatedISO': '2023-12-28T19:59:00+00:00',\n",
       "  'updateduk': 'Dec 28, 2023 at 19:59 GMT'},\n",
       " 'disclaimer': 'This data was produced from the CoinDesk Bitcoin Price Index (USD). Non-USD currency data converted using hourly conversion rate from openexchangerates.org',\n",
       " 'chartName': 'Bitcoin',\n",
       " 'bpi': {'USD': {'code': 'USD',\n",
       "   'symbol': '&#36;',\n",
       "   'rate': '42,638.1515',\n",
       "   'description': 'United States Dollar',\n",
       "   'rate_float': 42638.1515},\n",
       "  'GBP': {'code': 'GBP',\n",
       "   'symbol': '&pound;',\n",
       "   'rate': '35,628.0983',\n",
       "   'description': 'British Pound Sterling',\n",
       "   'rate_float': 35628.0983},\n",
       "  'EUR': {'code': 'EUR',\n",
       "   'symbol': '&euro;',\n",
       "   'rate': '41,535.7848',\n",
       "   'description': 'Euro',\n",
       "   'rate_float': 41535.7848}}}"
      ]
     },
     "execution_count": 11,
     "metadata": {},
     "output_type": "execute_result"
    }
   ],
   "source": [
    "taxa"
   ]
  },
  {
   "cell_type": "code",
   "execution_count": 12,
   "id": "64f3be27-81e8-4b9d-8261-7d9099aca818",
   "metadata": {},
   "outputs": [],
   "source": [
    "usd_rate = taxa ['bpi']['USD']['rate']"
   ]
  },
  {
   "cell_type": "code",
   "execution_count": 13,
   "id": "54131155-ee0e-4e57-ba08-e450b943e052",
   "metadata": {},
   "outputs": [
    {
     "data": {
      "text/plain": [
       "'42,638.1515'"
      ]
     },
     "execution_count": 13,
     "metadata": {},
     "output_type": "execute_result"
    }
   ],
   "source": [
    "usd_rate"
   ]
  },
  {
   "cell_type": "code",
   "execution_count": null,
   "id": "c07d7af4-aa73-4f81-9571-503afa3ec791",
   "metadata": {},
   "outputs": [],
   "source": []
  }
 ],
 "metadata": {
  "kernelspec": {
   "display_name": "Python 3 (ipykernel)",
   "language": "python",
   "name": "python3"
  },
  "language_info": {
   "codemirror_mode": {
    "name": "ipython",
    "version": 3
   },
   "file_extension": ".py",
   "mimetype": "text/x-python",
   "name": "python",
   "nbconvert_exporter": "python",
   "pygments_lexer": "ipython3",
   "version": "3.11.6"
  }
 },
 "nbformat": 4,
 "nbformat_minor": 5
}
