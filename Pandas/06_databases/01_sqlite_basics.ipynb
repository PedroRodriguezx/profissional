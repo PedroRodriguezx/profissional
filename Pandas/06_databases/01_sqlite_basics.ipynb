{
 "cells": [
  {
   "cell_type": "code",
   "execution_count": 1,
   "id": "09f15426-5ca6-4a97-bcb7-7f48e8cc651c",
   "metadata": {},
   "outputs": [],
   "source": [
    "import sqlite3"
   ]
  },
  {
   "cell_type": "code",
   "execution_count": 2,
   "id": "3e15aa48-5c1d-4121-8c4d-eb4f9ca65d19",
   "metadata": {},
   "outputs": [],
   "source": [
    "conn = sqlite3.connect('./database/sqlite/test.db')"
   ]
  },
  {
   "cell_type": "code",
   "execution_count": 3,
   "id": "48427d97-5085-42cd-92fc-32cb34bd65c4",
   "metadata": {},
   "outputs": [
    {
     "data": {
      "text/plain": [
       "<sqlite3.Cursor at 0x7ff48e77eac0>"
      ]
     },
     "execution_count": 3,
     "metadata": {},
     "output_type": "execute_result"
    }
   ],
   "source": [
    "conn.execute(\n",
    "    \"\"\"\n",
    "        CREATE TABLE IF NOT EXISTS EMPRESA(\n",
    "            ID INT PRIMARY  KEY       NOT NULL,\n",
    "            NOME            TEXT      NOT NULL,\n",
    "            ENDERECO        CHAR(50),\n",
    "            LIMITE_CREDITO  REAL      NOT NULL\n",
    "        );\n",
    "    \"\"\")"
   ]
  },
  {
   "cell_type": "code",
   "execution_count": 4,
   "id": "0e2ab2b2-2305-4efa-938c-32bfcd93b42a",
   "metadata": {},
   "outputs": [
    {
     "data": {
      "text/plain": [
       "<sqlite3.Cursor at 0x7ff48e77e840>"
      ]
     },
     "execution_count": 4,
     "metadata": {},
     "output_type": "execute_result"
    }
   ],
   "source": [
    "conn.execute(\n",
    "    \"\"\"\n",
    "        INSERT INTO EMPRESA (ID, NOME, ENDERECO, LIMITE_CREDITO)\n",
    "        VALUES (3, 'EMPRESA_H', 'BRAZIL', 20000.00 );\n",
    "    \"\"\")"
   ]
  },
  {
   "cell_type": "code",
   "execution_count": 5,
   "id": "79743636-4357-479b-abe7-df8581b5af28",
   "metadata": {},
   "outputs": [
    {
     "data": {
      "text/plain": [
       "<sqlite3.Cursor at 0x7ff48e77efc0>"
      ]
     },
     "execution_count": 5,
     "metadata": {},
     "output_type": "execute_result"
    }
   ],
   "source": [
    "conn.execute(\n",
    "    \"\"\"\n",
    "        INSERT INTO EMPRESA (ID, NOME, ENDERECO, LIMITE_CREDITO)\n",
    "        VALUES (4, 'EMPRESA_R', 'BRAZIL', 25000.00 );\n",
    "    \"\"\")"
   ]
  },
  {
   "cell_type": "code",
   "execution_count": 6,
   "id": "b36b40c7-1afa-40c9-adb0-9bf46dc3b7fd",
   "metadata": {},
   "outputs": [
    {
     "name": "stdout",
     "output_type": "stream",
     "text": [
      "row: (4, 'EMPRESA_H', 'BRAZIL', 20000.0)\n",
      "row: (5, 'EMPRESA_R', 'BRAZIL', 25000.0)\n"
     ]
    }
   ],
   "source": [
    "cursor = conn.execute(\"SELECT id + 1, nome, endereco, limite_credito from EMPRESA;\")\n",
    "\n",
    "for row in cursor:\n",
    "   print(f\"row: {row}\")\n",
    "\n",
    "conn.commit()"
   ]
  },
  {
   "cell_type": "code",
   "execution_count": null,
   "id": "473c70f8-9f83-49d8-b2f9-c57e01cbd102",
   "metadata": {},
   "outputs": [],
   "source": []
  }
 ],
 "metadata": {
  "kernelspec": {
   "display_name": "Python 3 (ipykernel)",
   "language": "python",
   "name": "python3"
  },
  "language_info": {
   "codemirror_mode": {
    "name": "ipython",
    "version": 3
   },
   "file_extension": ".py",
   "mimetype": "text/x-python",
   "name": "python",
   "nbconvert_exporter": "python",
   "pygments_lexer": "ipython3",
   "version": "3.11.6"
  }
 },
 "nbformat": 4,
 "nbformat_minor": 5
}
