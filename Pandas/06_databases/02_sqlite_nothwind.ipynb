{
 "cells": [
  {
   "cell_type": "code",
   "execution_count": 1,
   "id": "db640b42-15a0-4ef7-aeda-3761192732f1",
   "metadata": {},
   "outputs": [],
   "source": [
    "import sqlite3"
   ]
  },
  {
   "cell_type": "code",
   "execution_count": 2,
   "id": "b064ba43-6914-4db6-a88f-5f76d6514fc0",
   "metadata": {},
   "outputs": [],
   "source": [
    "from pprint import pprint"
   ]
  },
  {
   "cell_type": "code",
   "execution_count": 3,
   "id": "1d517ecc-88f3-4aa2-b1ce-af10de869422",
   "metadata": {},
   "outputs": [],
   "source": [
    "import pandas as pd"
   ]
  },
  {
   "cell_type": "code",
   "execution_count": 4,
   "id": "84be19a4-70fe-4815-b2e2-1f5b1a33ce51",
   "metadata": {},
   "outputs": [],
   "source": [
    "conn = sqlite3.connect('./database/sqlite/northwind.db')"
   ]
  },
  {
   "cell_type": "code",
   "execution_count": 5,
   "id": "f65af153-92cc-4b5f-99c9-60a0af38a623",
   "metadata": {},
   "outputs": [
    {
     "name": "stdout",
     "output_type": "stream",
     "text": [
      "[('Categories',),\n",
      " ('sqlite_sequence',),\n",
      " ('CustomerCustomerDemo',),\n",
      " ('CustomerDemographics',),\n",
      " ('Customers',),\n",
      " ('Employees',),\n",
      " ('EmployeeTerritories',),\n",
      " ('Order Details',),\n",
      " ('Orders',),\n",
      " ('Products',),\n",
      " ('Regions',),\n",
      " ('Shippers',),\n",
      " ('Suppliers',),\n",
      " ('Territories',),\n",
      " ('OrdersByCityCount',)]\n"
     ]
    }
   ],
   "source": [
    "cursor = conn.execute(\"\"\"\n",
    "   SELECT name \n",
    "     FROM sqlite_master\n",
    "    WHERE type='table';\n",
    "   \"\"\"\n",
    ")\n",
    "tables = cursor.fetchall()\n",
    "pprint(tables)"
   ]
  },
  {
   "cell_type": "code",
   "execution_count": 6,
   "id": "9db363a1-7be5-484b-b250-a1b927c47ab5",
   "metadata": {},
   "outputs": [
    {
     "name": "stdout",
     "output_type": "stream",
     "text": [
      "[('CREATE TABLE [Orders](\\n'\n",
      "  '   [OrderID]INTEGER NOT NULL PRIMARY KEY AUTOINCREMENT,\\n'\n",
      "  '   [CustomerID]TEXT,\\n'\n",
      "  '   [EmployeeID]INTEGER,\\n'\n",
      "  '   [OrderDate]DATETIME,\\n'\n",
      "  '   [RequiredDate]DATETIME,\\n'\n",
      "  '   [ShippedDate]DATETIME,\\n'\n",
      "  '   [ShipVia]INTEGER,\\n'\n",
      "  '   [Freight]NUMERIC DEFAULT 0,\\n'\n",
      "  '   [ShipName]TEXT,\\n'\n",
      "  '   [ShipAddress]TEXT,\\n'\n",
      "  '   [ShipCity]TEXT,\\n'\n",
      "  '   [ShipRegion]TEXT,\\n'\n",
      "  '   [ShipPostalCode]TEXT,\\n'\n",
      "  '   [ShipCountry]TEXT,\\n'\n",
      "  '   FOREIGN KEY ([EmployeeID]) REFERENCES [Employees] ([EmployeeID]) \\n'\n",
      "  '\\t\\tON DELETE NO ACTION ON UPDATE NO ACTION,\\n'\n",
      "  '\\tFOREIGN KEY ([CustomerID]) REFERENCES [Customers] ([CustomerID]) \\n'\n",
      "  '\\t\\tON DELETE NO ACTION ON UPDATE NO ACTION,\\n'\n",
      "  '\\tFOREIGN KEY ([ShipVia]) REFERENCES [Shippers] ([ShipperID]) \\n'\n",
      "  '\\t\\tON DELETE NO ACTION ON UPDATE NO ACTION\\n'\n",
      "  ')',)]\n"
     ]
    }
   ],
   "source": [
    "cursor = conn.execute(\"\"\"\n",
    "   SELECT sql\n",
    "     FROM sqlite_master\n",
    "    WHERE type = 'table' \n",
    "      AND name = 'Orders'\n",
    "   \"\"\"\n",
    ")\n",
    "orders_schema = cursor.fetchall()\n",
    "pprint(orders_schema)"
   ]
  },
  {
   "cell_type": "code",
   "execution_count": 7,
   "id": "aff0f09a-6862-4d63-97e8-2f43299cf2ea",
   "metadata": {},
   "outputs": [
    {
     "name": "stdout",
     "output_type": "stream",
     "text": [
      "\n",
      "row: (10248, 'VINET', 5, '2016-07-04', '2016-08-01', '2016-07-16', 3, 32.38, 'Vins et alcools Chevalier', '59 rue de l-Abbaye', 'Reims', 'Western Europe', '51100', 'France')\n",
      "\n",
      "row: (10249, 'TOMSP', 6, '2016-07-05', '2016-08-16', '2016-07-10', 1, 11.61, 'Toms Spezialitäten', 'Luisenstr. 48', 'Münster', 'Western Europe', '44087', 'Germany')\n",
      "\n",
      "row: (10250, 'HANAR', 4, '2016-07-08', '2016-08-05', '2016-07-12', 2, 65.83, 'Hanari Carnes', 'Rua do Paço, 67', 'Rio de Janeiro', 'South America', '05454-876', 'Brazil')\n",
      "\n",
      "row: (10251, 'VICTE', 3, '2016-07-08', '2016-08-05', '2016-07-15', 1, 41.34, 'Victuailles en stock', '2, rue du Commerce', 'Lyon', 'Western Europe', '69004', 'France')\n",
      "\n",
      "row: (10252, 'SUPRD', 4, '2016-07-09', '2016-08-06', '2016-07-11', 2, 51.3, 'Suprêmes délices', 'Boulevard Tirou, 255', 'Charleroi', 'Western Europe', 'B-6000', 'Belgium')\n"
     ]
    }
   ],
   "source": [
    "cursor = conn.execute(\"SELECT * from Orders limit 5;\")\n",
    "\n",
    "for row in cursor:\n",
    "   print(f\"\\nrow: {row}\")"
   ]
  },
  {
   "cell_type": "code",
   "execution_count": 12,
   "id": "6e834017-441c-46b2-8480-3a57a22366f3",
   "metadata": {},
   "outputs": [
    {
     "name": "stdout",
     "output_type": "stream",
     "text": [
      "row: ('Vins et alcools Chevalier', 'Reims', 'France')\n",
      "row: ('Toms Spezialitäten', 'Münster', 'Germany')\n",
      "row: ('Hanari Carnes', 'Rio de Janeiro', 'Brazil')\n",
      "row: ('Victuailles en stock', 'Lyon', 'France')\n",
      "row: ('Suprêmes délices', 'Charleroi', 'Belgium')\n"
     ]
    }
   ],
   "source": [
    "cursor = conn.execute(\"\"\"\n",
    "   SELECT ShipName,\n",
    "          ShipCity,\n",
    "          ShipCountry\n",
    "     from Orders\n",
    "    limit 5;\n",
    "   \"\"\")\n",
    "\n",
    "for row in cursor:\n",
    "   print(f\"row: {row}\")"
   ]
  },
  {
   "cell_type": "code",
   "execution_count": 13,
   "id": "1c292867-d494-43ed-ae6a-875581c01ced",
   "metadata": {},
   "outputs": [],
   "source": [
    "conn.close()"
   ]
  },
  {
   "cell_type": "code",
   "execution_count": null,
   "id": "8099af4e-ab80-4afe-acaf-0afaf89d27cb",
   "metadata": {},
   "outputs": [],
   "source": []
  }
 ],
 "metadata": {
  "kernelspec": {
   "display_name": "Python 3 (ipykernel)",
   "language": "python",
   "name": "python3"
  },
  "language_info": {
   "codemirror_mode": {
    "name": "ipython",
    "version": 3
   },
   "file_extension": ".py",
   "mimetype": "text/x-python",
   "name": "python",
   "nbconvert_exporter": "python",
   "pygments_lexer": "ipython3",
   "version": "3.11.6"
  }
 },
 "nbformat": 4,
 "nbformat_minor": 5
}
